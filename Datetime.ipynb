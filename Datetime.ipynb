{
 "cells": [
  {
   "cell_type": "markdown",
   "id": "6164d528",
   "metadata": {},
   "source": [
    "# Datetime\n"
   ]
  },
  {
   "cell_type": "markdown",
   "id": "e409191b",
   "metadata": {},
   "source": [
    ">> supplies classes to work with dates and times\n",
    ">> provide a way to represent and manipulate date and time\n",
    "log file\n",
    "facebook:\n",
    "    1st login\n",
    "    last successful\n",
    "    last unsuccesful\n",
    "    active session \n",
    "upload time and date\n",
    "\n",
    "date1=15-08-2025\n",
    "date2=15 Aug 2025\n",
    "\n",
    "import time >> for time\n",
    "import date >> for date"
   ]
  },
  {
   "cell_type": "markdown",
   "id": "1562e7a5",
   "metadata": {},
   "source": [
    "# Time()"
   ]
  },
  {
   "cell_type": "markdown",
   "id": "f8c68bde",
   "metadata": {},
   "source": [
    "# time.time() #epoch time in seconds "
   ]
  },
  {
   "cell_type": "code",
   "execution_count": 4,
   "id": "80d23e4b",
   "metadata": {},
   "outputs": [
    {
     "ename": "NameError",
     "evalue": "name 'time' is not defined",
     "output_type": "error",
     "traceback": [
      "\u001b[1;31m---------------------------------------------------------------------------\u001b[0m",
      "\u001b[1;31mNameError\u001b[0m                                 Traceback (most recent call last)",
      "Cell \u001b[1;32mIn[4], line 1\u001b[0m\n\u001b[1;32m----> 1\u001b[0m start_time\u001b[38;5;241m=\u001b[39m\u001b[43mtime\u001b[49m\u001b[38;5;241m.\u001b[39mtime()\n\u001b[0;32m      2\u001b[0m \u001b[38;5;28;01mfor\u001b[39;00m i \u001b[38;5;129;01min\u001b[39;00m \u001b[38;5;28mrange\u001b[39m(\u001b[38;5;241m2000000\u001b[39m):\n\u001b[0;32m      3\u001b[0m     \u001b[38;5;28;01mpass\u001b[39;00m\n",
      "\u001b[1;31mNameError\u001b[0m: name 'time' is not defined"
     ]
    }
   ],
   "source": [
    "start_time=time.time()\n",
    "for i in range(2000000):\n",
    "    pass\n",
    "end_time=time.time()\n",
    "total_time=end_time-start_time\n",
    "print(\"Total time required for processing is \",total_time)"
   ]
  },
  {
   "cell_type": "code",
   "execution_count": null,
   "id": "c866c360",
   "metadata": {},
   "outputs": [],
   "source": [
    "start=time.time()\n",
    "for i in range(30000000):\n",
    "    pass \n",
    "end=time.time()\n",
    "total=end-start\n",
    "print(\"Total=\",total)"
   ]
  },
  {
   "cell_type": "markdown",
   "id": "48653037",
   "metadata": {},
   "source": [
    "# 2.time.perf_counter()"
   ]
  },
  {
   "cell_type": "markdown",
   "id": "8cc110ed",
   "metadata": {},
   "source": [
    "measure the time elapsed between two points in your code"
   ]
  },
  {
   "cell_type": "code",
   "execution_count": null,
   "id": "bb9413c4",
   "metadata": {},
   "outputs": [],
   "source": [
    "start_time=time.perf_counter()\n",
    "def test_time():\n",
    "    print(\"Testing time taken by function\")\n",
    "    for i in range(300000000):\n",
    "        pass\n",
    "test_time()\n",
    "end_time=time.perf_counter()\n",
    "total_time=end_time-start_time\n",
    "print(\"Total time required for processing is \",total_time)"
   ]
  },
  {
   "cell_type": "markdown",
   "id": "a0f622bd",
   "metadata": {},
   "source": [
    "# 3.time.sleep()"
   ]
  },
  {
   "cell_type": "code",
   "execution_count": null,
   "id": "a16ca9a5",
   "metadata": {},
   "outputs": [],
   "source": [
    "time.sleep(5)\n",
    "print('python')\n",
    "time.sleep(3)\n",
    "print(\"data science\")\n"
   ]
  },
  {
   "cell_type": "code",
   "execution_count": null,
   "id": "de66bb4d",
   "metadata": {},
   "outputs": [],
   "source": [
    "time.sleep(3)\n",
    "print(\"1st line\")\n",
    "time.sleep(5)\n",
    "print(\"2nd Line\")"
   ]
  },
  {
   "cell_type": "markdown",
   "id": "a6470222",
   "metadata": {},
   "source": [
    "# Function for Datetime module"
   ]
  },
  {
   "cell_type": "markdown",
   "id": "dd399ea3",
   "metadata": {},
   "source": [
    "# 1.Current Datetime"
   ]
  },
  {
   "cell_type": "code",
   "execution_count": null,
   "id": "b09fb66e",
   "metadata": {},
   "outputs": [],
   "source": [
    "import datetime\n",
    "current_datetime=datetime.datetime.now()\n",
    "current_datetime"
   ]
  },
  {
   "cell_type": "markdown",
   "id": "0f289376",
   "metadata": {},
   "source": [
    "# current_date()"
   ]
  },
  {
   "cell_type": "code",
   "execution_count": null,
   "id": "75928152",
   "metadata": {},
   "outputs": [],
   "source": [
    "current_datetime=datetime.datetime.now().date()\n",
    "print(\"Current Datetime:\",current_datetime)"
   ]
  },
  {
   "cell_type": "markdown",
   "id": "139c73ed",
   "metadata": {},
   "source": [
    "# current_time()"
   ]
  },
  {
   "cell_type": "code",
   "execution_count": null,
   "id": "80c586de",
   "metadata": {},
   "outputs": [],
   "source": [
    "current_datetime=datetime.datetime.now().time()\n",
    "print(\"Current Datetime:\",current_datetime)"
   ]
  },
  {
   "cell_type": "markdown",
   "id": "d6d99e84",
   "metadata": {},
   "source": [
    "# current_year()"
   ]
  },
  {
   "cell_type": "code",
   "execution_count": null,
   "id": "4881a6a6",
   "metadata": {},
   "outputs": [],
   "source": [
    "current_datetime=datetime.datetime.now().year\n",
    "print(\"Current Datetime:\",current_datetime)"
   ]
  },
  {
   "cell_type": "markdown",
   "id": "3e1648f5",
   "metadata": {},
   "source": [
    "# current_month()"
   ]
  },
  {
   "cell_type": "code",
   "execution_count": null,
   "id": "b22115e5",
   "metadata": {},
   "outputs": [],
   "source": [
    "current_datetime=datetime.datetime.now().month\n",
    "print(\"Current Datetime:\",current_datetime)"
   ]
  },
  {
   "cell_type": "markdown",
   "id": "c105022a",
   "metadata": {},
   "source": [
    "# current_day"
   ]
  },
  {
   "cell_type": "code",
   "execution_count": null,
   "id": "1929828e",
   "metadata": {},
   "outputs": [],
   "source": [
    "current_datetime=datetime.datetime.now().day\n",
    "print(\"Current Datetime:\",current_datetime)"
   ]
  },
  {
   "cell_type": "code",
   "execution_count": null,
   "id": "5d0aa518",
   "metadata": {},
   "outputs": [],
   "source": [
    "current_datetime=datetime.datetime.now().hour\n",
    "print(\"Current Datetime:\",current_datetime)"
   ]
  },
  {
   "cell_type": "code",
   "execution_count": null,
   "id": "e063e488",
   "metadata": {},
   "outputs": [],
   "source": [
    "current_datetime=datetime.datetime.now().minute\n",
    "print(\"Current Datetime:\",current_datetime)"
   ]
  },
  {
   "cell_type": "code",
   "execution_count": null,
   "id": "a86d6e1b",
   "metadata": {},
   "outputs": [],
   "source": [
    "Current_time=datetime.datetime.now().time()\n",
    "print(\"Current time:\",Current_time)"
   ]
  },
  {
   "cell_type": "code",
   "execution_count": null,
   "id": "8f652fab",
   "metadata": {},
   "outputs": [],
   "source": [
    "Current_Time=datetime.datetime.today().time()\n",
    "print(\"Current time:\",Current_Time)"
   ]
  },
  {
   "cell_type": "markdown",
   "id": "ac9e6da0",
   "metadata": {},
   "source": [
    "# TimeDelta"
   ]
  },
  {
   "cell_type": "code",
   "execution_count": 5,
   "id": "e87b6b25",
   "metadata": {},
   "outputs": [],
   "source": [
    "from datetime import datetime, timedelta"
   ]
  },
  {
   "cell_type": "code",
   "execution_count": 6,
   "id": "c8fe15ce",
   "metadata": {},
   "outputs": [],
   "source": [
    "import datetime"
   ]
  },
  {
   "cell_type": "code",
   "execution_count": null,
   "id": "6aea48aa",
   "metadata": {},
   "outputs": [],
   "source": [
    "# Today's date\n",
    "now=datetime.now()\n",
    "print(\"Current date:\",now)\n",
    "\n",
    "# Add 1 week to current date\n",
    "future=now+timedelta(weeks=1)\n",
    "print(\"Future date:\",future)\n",
    "\n",
    "# Subtract 2 days and 5 hours\n",
    "past=now-timedelta(days=2, hours=5)\n",
    "print(\"Past date:\",past)"
   ]
  }
 ],
 "metadata": {
  "kernelspec": {
   "display_name": "Python 3",
   "language": "python",
   "name": "python3"
  },
  "language_info": {
   "codemirror_mode": {
    "name": "ipython",
    "version": 3
   },
   "file_extension": ".py",
   "mimetype": "text/x-python",
   "name": "python",
   "nbconvert_exporter": "python",
   "pygments_lexer": "ipython3",
   "version": "3.13.5"
  }
 },
 "nbformat": 4,
 "nbformat_minor": 5
}
