{
 "cells": [
  {
   "cell_type": "code",
   "execution_count": null,
   "id": "94bc4a4d",
   "metadata": {},
   "outputs": [],
   "source": [
    "#1. Write a function to print \"Hello, World!\".\n",
    "def greet():\n",
    "    print(\"Hello, World!\")\n",
    "greet()"
   ]
  },
  {
   "cell_type": "code",
   "execution_count": null,
   "id": "59e57b3f",
   "metadata": {},
   "outputs": [],
   "source": [
    "#2. Write a function that takes your name as input and prints a greeting message.\n",
    "def greeting(name):\n",
    "    print(f\"Hello {name}! Welcome to my python world\")\n",
    "greeting(\"Chaitali\")"
   ]
  },
  {
   "cell_type": "code",
   "execution_count": null,
   "id": "8951f440",
   "metadata": {},
   "outputs": [],
   "source": [
    "#3. Write a function to find the sum of two numbers (take input from user).\n",
    "def sum():\n",
    "    a=int(input(\"Enter a number\"))\n",
    "    b=int(input(\"Enter a number\"))\n",
    "    res=a+b\n",
    "    print(f\"The sum of a & b is {res}\")\n",
    "sum()"
   ]
  },
  {
   "cell_type": "code",
   "execution_count": null,
   "id": "35e8b86e",
   "metadata": {},
   "outputs": [],
   "source": [
    "#4. Write a function to return the square of a number.\n",
    "def square(a):\n",
    "    sq=a*a\n",
    "    print(f\"Sqaure of a is {sq}\")\n",
    "square(3)"
   ]
  },
  {
   "cell_type": "code",
   "execution_count": null,
   "id": "37654783",
   "metadata": {},
   "outputs": [],
   "source": [
    "#5. Write a function to check if a number is even or odd.\n",
    "def number(num):\n",
    "    if num % 2==0:\n",
    "        print(f\"{num} is even\")\n",
    "    else:\n",
    "        print(f\"{num} is odd\")\n",
    "number(13)"
   ]
  },
  {
   "cell_type": "code",
   "execution_count": null,
   "id": "444b414e",
   "metadata": {},
   "outputs": [],
   "source": [
    "#6. Write a function to find the factorial of a given number.\n",
    "def fact1(num):\n",
    "    fact=1\n",
    "    if num<0:\n",
    "        print(\"Factorial does not exist\")\n",
    "    else:\n",
    "        for i in range(1,num+1):\n",
    "            fact*=i\n",
    "        print(f\"The factorial of {num} is {fact}\")\n",
    "fact1(10)"
   ]
  },
  {
   "cell_type": "code",
   "execution_count": null,
   "id": "f6fbf213",
   "metadata": {},
   "outputs": [],
   "source": [
    "#7. Write a function that takes a list and returns the sum of all its elements.\n",
    "list1=[1,2,3,4]\n",
    "def sum1(list1):\n",
    "    add=0\n",
    "    for i in list1:\n",
    "        add+=i\n",
    "        print(add)\n",
    "sum1(list1)"
   ]
  },
  {
   "cell_type": "code",
   "execution_count": null,
   "id": "1302a24a",
   "metadata": {},
   "outputs": [],
   "source": [
    "#8. Write a function that takes a list and returns a new list with only even numbers.\n",
    "list2=[21,23,54,72,64]\n",
    "def num(list2):\n",
    "    for i in list2:\n",
    "        if i % 2==0:\n",
    "            print(f\"{i} is even\")\n",
    "        else:\n",
    "            print(f\"{i} is odd\")\n",
    "num(list2)"
   ]
  },
  {
   "cell_type": "code",
   "execution_count": null,
   "id": "c41ba749",
   "metadata": {},
   "outputs": [],
   "source": [
    "#9. Write a function that takes two strings and returns the longer one.\n",
    "def longer(string1, string2):\n",
    "    if len(string1) > len(string2):\n",
    "        return string1\n",
    "    else:\n",
    "        return string2\n",
    "longer(\"Chaitali\",\"Jadhav\")"
   ]
  }
 ],
 "metadata": {
  "language_info": {
   "name": "python"
  }
 },
 "nbformat": 4,
 "nbformat_minor": 5
}
