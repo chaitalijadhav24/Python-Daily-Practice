{
 "cells": [
  {
   "cell_type": "code",
   "execution_count": null,
   "id": "a0d3ab2c",
   "metadata": {},
   "outputs": [],
   "source": [
    "#1.write a programming to Reverse a list without using the reverse() method (use slicing or a loop).\n",
    "li=[1,2,3,4,5,6,7,8]\n",
    "li[::-1]\n"
   ]
  },
  {
   "cell_type": "code",
   "execution_count": null,
   "id": "43cac6c4",
   "metadata": {},
   "outputs": [],
   "source": [
    "#2.Remove all occurrences of a specific element from a list.\n",
    "li=[1,2,3,4,2,2,5,6,2,6]\n",
    "remove_ele=2\n",
    "while remove_ele in li:\n",
    "    li.remove(remove_ele)\n",
    "print(li)"
   ]
  },
  {
   "cell_type": "code",
   "execution_count": null,
   "id": "210da654",
   "metadata": {},
   "outputs": [],
   "source": [
    "#3.write a program to Find the second largest number in a list.\n",
    "\n",
    "data=[21,43,12,75,83,73,80]\n",
    "if len(data) < 2:\n",
    "    print(\"List contain more than 2 number\")\n",
    "elif data[0] > data[1]:\n",
    "    largest = data[0]\n",
    "    sec_lar = data[1]\n",
    "else:\n",
    "    largest = data[1]\n",
    "    sec_lar = data[0]\n",
    "for num in data[2:]:\n",
    "    if num > largest:\n",
    "         sec_lar = largest\n",
    "         largest = num\n",
    "    elif num > sec_lar and num != largest: \n",
    "        sec_lar = num\n",
    "print(\"second largest no:\",sec_lar)"
   ]
  },
  {
   "cell_type": "code",
   "execution_count": null,
   "id": "7a2c7bcd",
   "metadata": {},
   "outputs": [],
   "source": [
    "#4. Use list comprehension to create a list of all even numbers between 1 and 20 (inclusive)\n",
    "num=[\"even\" if i%2==0 else \"odd\" for i in range(1,20)]\n",
    "print(num)"
   ]
  },
  {
   "cell_type": "code",
   "execution_count": null,
   "id": "33e5564c",
   "metadata": {},
   "outputs": [],
   "source": [
    "#5. Given a list of numbers, use list comprehension to create a new list containing only the numbers greater than 5.\n",
    "\n",
    "li=[2,3,4,5,6,15,20,13]\n",
    "label=[i for i in li if i>5]\n",
    "print(label)"
   ]
  },
  {
   "cell_type": "code",
   "execution_count": null,
   "id": "8ac5d378",
   "metadata": {},
   "outputs": [],
   "source": [
    "#6. Given a list, remove a specific range of elements (defined by start and end indices) using the del keyword and slicing.\n",
    "fruits=[\"Cherry\",\"Apple\",\"Banana\",\"Orange\",\"Mango\",\"Berries\"]\n",
    "print(len(fruits))\n",
    "del fruits[2:5]\n",
    "print(fruits)"
   ]
  },
  {
   "cell_type": "code",
   "execution_count": null,
   "id": "a09e6fcb",
   "metadata": {},
   "outputs": [],
   "source": [
    "#7. Given a list of words, use list comprehension to create a new list containing the length of each word.\n",
    "fruits=[\"Cherry\",\"Apple\",\"Banana\",\"Orange\",\"Mango\",\"Berries\"]\n",
    "res=[len(frt) for frt in fruits]\n",
    "print(res)"
   ]
  },
  {
   "cell_type": "code",
   "execution_count": null,
   "id": "942561bf",
   "metadata": {},
   "outputs": [],
   "source": [
    "#8. Write a function that takes a list and a value as input and removes all occurrences of that value from the list in-place.\n",
    "li=input(\"Enter a list\")\n",
    "val=input(\"Enter a value\")\n",
    "print(li)\n",
    "li2=li.split()\n",
    "print(li2)\n",
    "while val in li2:\n",
    "    li2.remove(val)\n",
    "print(li2)"
   ]
  },
  {
   "cell_type": "code",
   "execution_count": null,
   "id": "129691f6",
   "metadata": {},
   "outputs": [],
   "source": [
    "#9. Write a program that takes a string as input, converts it into a list of characters, reverses the list,\n",
    "#and then joins the characters back into a   reversed string. Print the reversed string.\n",
    "\n",
    "s=input(\"Enter a string\")\n",
    "print(s)\n",
    "li=list(s)\n",
    "li.reverse()\n",
    "print(li)\n",
    "string=str(li)\n",
    "print(string)"
   ]
  },
  {
   "cell_type": "code",
   "execution_count": null,
   "id": "57c4f676",
   "metadata": {},
   "outputs": [],
   "source": [
    "#10. Write a program that takes a sentence as input. Split the sentence into a list of words. Then, iterate through the list of words and count \n",
    "#the total number of vowels (a, e, i, o, u - case-insensitive) in all the words combined. Print the total vowel count.\n",
    "\n",
    "sentence=\"This is a python program\"\n",
    "print(sentence)\n",
    "li=sentence.split()\n",
    "total_vowel=0\n",
    "vowels=\"aeiouAEIOU\"\n",
    "print(li)\n",
    "for s in li:\n",
    "    for char in s:\n",
    "        if char in vowels:\n",
    "            total_vowel+=1\n",
    "print(\"Total Vowels:\",total_vowel)"
   ]
  }
 ],
 "metadata": {
  "language_info": {
   "name": "python"
  }
 },
 "nbformat": 4,
 "nbformat_minor": 5
}
