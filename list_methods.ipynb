{
 "cells": [
  {
   "cell_type": "markdown",
   "id": "11f7212c",
   "metadata": {},
   "source": [
    "# List Functions/ Methods"
   ]
  },
  {
   "cell_type": "code",
   "execution_count": null,
   "id": "6db94506",
   "metadata": {},
   "outputs": [],
   "source": [
    "# 1. append\n",
    "#syntax\n",
    "# list.append(item)"
   ]
  },
  {
   "cell_type": "code",
   "execution_count": null,
   "id": "1779208b",
   "metadata": {},
   "outputs": [],
   "source": [
    "fruits=['apple','orange']\n",
    "fruits.append('cherry')\n",
    "print(fruits)"
   ]
  },
  {
   "cell_type": "code",
   "execution_count": null,
   "id": "4d583f77",
   "metadata": {},
   "outputs": [],
   "source": [
    "var1=[3,4,5]\n",
    "var2=[10,8,9]\n",
    "y=var1.append(var2)\n",
    "print(var1)"
   ]
  },
  {
   "cell_type": "code",
   "execution_count": null,
   "id": "5d75cea2",
   "metadata": {},
   "outputs": [],
   "source": [
    "li1=[1,2,3,4]\n",
    "li2=['mango','apple','banana']\n",
    "y=li1.append(li2)\n",
    "print(li1)\n",
    "print(len(li1))"
   ]
  },
  {
   "cell_type": "code",
   "execution_count": null,
   "id": "32306b8c",
   "metadata": {},
   "outputs": [],
   "source": [
    "# write a program to filter out the odd or even numbers from list, create two list containing even or odd numbers\n",
    "\n",
    "ls=[12,4,23,56,67,87,98]\n",
    "for num in ls:\n",
    "    if num%2==0:\n",
    "        print(\"Even no:\",num)\n",
    "    else:\n",
    "        print(\"odd no:\",num)"
   ]
  },
  {
   "cell_type": "code",
   "execution_count": null,
   "id": "6fe06f43",
   "metadata": {},
   "outputs": [],
   "source": [
    "ls=[12,4,23,56,67,87,98]\n",
    "odd_num=[]\n",
    "even_num=[]\n",
    "for num in ls:\n",
    "    if num%2==0:\n",
    "        even_num.append(num)\n",
    "    else:\n",
    "        odd_num.append(num)\n",
    "print(\"Odd number list:\",odd_num)\n",
    "print(\"Even number list:\",even_num)"
   ]
  },
  {
   "cell_type": "code",
   "execution_count": null,
   "id": "0917fa99",
   "metadata": {},
   "outputs": [],
   "source": [
    "# 2.extend(iterable)\n",
    "#add all elements as iterable\n",
    "list1=[1,2,3]\n",
    "list2=[1,2,4,5]\n",
    "list1.extend(list2)\n",
    "print(list1)\n",
    "print(len(list1))"
   ]
  },
  {
   "cell_type": "code",
   "execution_count": null,
   "id": "81439b10",
   "metadata": {},
   "outputs": [],
   "source": [
    "# 3.insert(index, item)\n",
    "# when we want to add the item at particular index\n",
    "#syntax\n",
    "\n",
    "s=[1,2,3,4]\n",
    "s.insert(3,6)\n",
    "print(s)"
   ]
  },
  {
   "cell_type": "code",
   "execution_count": null,
   "id": "8d42abd8",
   "metadata": {},
   "outputs": [],
   "source": [
    "# 4.remove(item)\n",
    "#remove the 1st occurance of the item \n",
    "li=[1,2,34,54,65]\n",
    "li.remove(54)\n",
    "print(li)"
   ]
  },
  {
   "cell_type": "code",
   "execution_count": null,
   "id": "2eecf5cb",
   "metadata": {},
   "outputs": [],
   "source": [
    "sub_names=['phy','chem','math','bio']\n",
    "val='math'\n",
    "if val in sub_names:\n",
    "    sub_names.remove(val)\n",
    "    print(\"item deleted\")\n",
    "else:\n",
    "    print(\"Item not found\")"
   ]
  },
  {
   "cell_type": "code",
   "execution_count": null,
   "id": "9cb8e62c",
   "metadata": {},
   "outputs": [],
   "source": [
    "# 5.pop()\n",
    "# remove and return item at index (default:last item)\n",
    "fruits=['apple','cherry','banana']\n",
    "popped=fruits.pop(0)\n",
    "print(fruits)\n",
    "print(popped)"
   ]
  },
  {
   "cell_type": "code",
   "execution_count": null,
   "id": "1b6cb85f",
   "metadata": {},
   "outputs": [],
   "source": [
    "ls=[1,2,4,5,67,789]\n",
    "ls.pop(1)\n",
    "ls\n",
    "ls.pop()\n",
    "ls"
   ]
  },
  {
   "cell_type": "code",
   "execution_count": null,
   "id": "a7b54791",
   "metadata": {},
   "outputs": [],
   "source": [
    "# 6.clear()\n",
    "# remove all items from list\n",
    "items=[1,2,3,4,5]\n",
    "items.clear()\n",
    "print(items)"
   ]
  },
  {
   "cell_type": "code",
   "execution_count": null,
   "id": "f902ac92",
   "metadata": {},
   "outputs": [],
   "source": [
    "# del keyword\n",
    "sub_names=['Phy','Bio','Chem']\n",
    "del sub_names[2]\n",
    "print(sub_names)"
   ]
  },
  {
   "cell_type": "code",
   "execution_count": null,
   "id": "69a117a1",
   "metadata": {},
   "outputs": [],
   "source": [
    "# 7.sort()\n",
    "# sort the list in place (ascending by default)\n",
    "\n",
    "num=[2,4,56,67,4,7,76]\n",
    "num.sort()\n",
    "print(num)"
   ]
  },
  {
   "cell_type": "code",
   "execution_count": null,
   "id": "6ff67f92",
   "metadata": {},
   "outputs": [],
   "source": [
    "# 8.reverse()\n",
    "num=[2,4,56,67,4,7,76]\n",
    "num.reverse()\n",
    "print(num)"
   ]
  },
  {
   "cell_type": "code",
   "execution_count": null,
   "id": "9080dca4",
   "metadata": {},
   "outputs": [],
   "source": [
    "# 9.index(item)\n",
    "#return the index of the particular occurrence \n",
    "data=[10,20,30,20]\n",
    "print(data.index(20))"
   ]
  },
  {
   "cell_type": "code",
   "execution_count": null,
   "id": "93629021",
   "metadata": {},
   "outputs": [],
   "source": [
    "sub_names=['phy','chem','math','bio']\n",
    "sub_names.index('bio')"
   ]
  },
  {
   "cell_type": "code",
   "execution_count": null,
   "id": "5a381b69",
   "metadata": {},
   "outputs": [],
   "source": [
    "# 10.count()\n",
    "#returns the no of times item appears in the list\n",
    "data=[10,20,30,20]\n",
    "data.count(20)"
   ]
  },
  {
   "cell_type": "code",
   "execution_count": null,
   "id": "9bf6dee2",
   "metadata": {},
   "outputs": [],
   "source": [
    "# Build in function \n",
    "# 1.len(list)\n",
    "data=[10,20,30,20]\n",
    "len(data)"
   ]
  },
  {
   "cell_type": "code",
   "execution_count": null,
   "id": "5c60dfb8",
   "metadata": {},
   "outputs": [],
   "source": [
    "# 2.sorted(iterable)\n",
    "# return New csorted list from the items in the iterable \n",
    "# syntax:\n",
    "# [expression for item in iterable if condition"
   ]
  },
  {
   "cell_type": "code",
   "execution_count": null,
   "id": "ec0947a1",
   "metadata": {},
   "outputs": [],
   "source": [
    "cube=[]\n",
    "for i in range(11,21):\n",
    "    cube.append(i**3)\n",
    "print(cube)"
   ]
  },
  {
   "cell_type": "code",
   "execution_count": null,
   "metadata": {},
   "outputs": [],
   "source": [
    "sq=[i**2 for i in range(11,21)]\n",
    "sq"
   ]
  },
  {
   "cell_type": "code",
   "execution_count": null,
   "id": "669a481f",
   "metadata": {},
   "outputs": [],
   "source": [
    "fruits=['Kiwi','Banana','Orange','Apple','DragonFruit','Cherry']\n",
    "res=[]\n",
    "for frt in fruits:\n",
    "    res.append(frt.upper())\n",
    "print(res)"
   ]
  },
  {
   "cell_type": "code",
   "execution_count": null,
   "id": "17541fe7",
   "metadata": {},
   "outputs": [],
   "source": [
    "res=[frt.upper() for frt in fruits]\n",
    "res"
   ]
  },
  {
   "cell_type": "code",
   "execution_count": null,
   "id": "6b6d583b",
   "metadata": {},
   "outputs": [],
   "source": [
    "number=[1,2,3,4,5,6,7,8,9]\n",
    "labels=[]\n",
    "for num in number:\n",
    "    if num%2==0:\n",
    "        labels.append(\"even\")\n",
    "    else:\n",
    "        labels.append(\"odd\")\n",
    "print(labels)"
   ]
  },
  {
   "cell_type": "code",
   "execution_count": null,
   "id": "0ea6de31",
   "metadata": {},
   "outputs": [],
   "source": [
    "number=[1,2,3,4,5,6,7,8,9]\n",
    "labels=[\"even\" if num%2==0 else \"odd\" for num in number]\n",
    "print(labels)"
   ]
  },
  {
   "cell_type": "code",
   "execution_count": null,
   "id": "c4132213",
   "metadata": {},
   "outputs": [],
   "source": [
    "num=[-2,-4,-5,1,2,3,4,5]\n",
    "positive_num=[]\n",
    "for i in num:\n",
    "    if i>0:\n",
    "        positive_num.append(i)\n",
    "print(positive_num)"
   ]
  },
  {
   "cell_type": "code",
   "execution_count": null,
   "id": "c031237c",
   "metadata": {},
   "outputs": [],
   "source": [
    "num=[-2,-4,-5,1,2,3,4,5]\n",
    "positive_num=[i for i in num if i > 0]\n",
    "print(positive_num)"
   ]
  }
 ],
 "metadata": {
  "language_info": {
   "name": "python"
  }
 },
 "nbformat": 4,
 "nbformat_minor": 5
}
