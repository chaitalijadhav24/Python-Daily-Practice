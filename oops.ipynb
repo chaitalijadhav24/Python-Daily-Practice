{
 "cells": [
  {
   "cell_type": "markdown",
   "id": "d86b997b",
   "metadata": {},
   "source": [
    "# Oops"
   ]
  },
  {
   "cell_type": "raw",
   "id": "d83dbe0a-299a-4b67-ad86-331f9a4c69d9",
   "metadata": {},
   "source": [
    ">> Opps-Object oriented programming\n",
    ">> Why oops is needed\n",
    "\n",
    ">> lets say you're working on data cleaning script for multiple datasets.\n",
    ">> you write separate functiond for each dataset\n",
    ">> code gets messy\n",
    ">> hard yo maintain or reuse. \n",
    ">> this makes code cleaner reusable easier to clear\n",
    ">> oops is a way of organizing code around objects and classes rather just functions and logic"
   ]
  },
  {
   "cell_type": "raw",
   "id": "32b76f60-e4a9-4440-af1d-4e57112b4649",
   "metadata": {},
   "source": [
    "1.object\n",
    "2.class\n",
    "3.inheritance(5 types)\n",
    "4.encapsulation\n",
    "5.polymorphism\n",
    "6.abstraction"
   ]
  },
  {
   "cell_type": "code",
   "execution_count": null,
   "id": "331168cf",
   "metadata": {},
   "outputs": [],
   "source": [
    "class is blueprint of atrributes and methods\n",
    "object is an instance of class or real world entities"
   ]
  },
  {
   "cell_type": "code",
   "execution_count": 9,
   "id": "73c82c4b",
   "metadata": {},
   "outputs": [
    {
     "name": "stdout",
     "output_type": "stream",
     "text": [
      "<__main__.data_cleaning object at 0x000001D067C9C6E0>\n"
     ]
    }
   ],
   "source": [
    "class data_cleaning:\n",
    "    variable=\"This is example\"\n",
    "    def handling_values():\n",
    "        \"code for handling missing values\"\n",
    "    def treat_outliers():\n",
    "        \"code for trating the values\"\n",
    "data=data_cleaning()\n",
    "print(data)"
   ]
  },
  {
   "cell_type": "code",
   "execution_count": 10,
   "id": "667bf3a9",
   "metadata": {},
   "outputs": [
    {
     "name": "stdout",
     "output_type": "stream",
     "text": [
      "<class 'list'>\n"
     ]
    }
   ],
   "source": [
    "students=[\"Rahul\",\"Priya\"]\n",
    "marks=[85,93]\n",
    "print(type(students))"
   ]
  },
  {
   "cell_type": "code",
   "execution_count": 11,
   "id": "ac6b09fe",
   "metadata": {},
   "outputs": [
    {
     "name": "stdout",
     "output_type": "stream",
     "text": [
      "this is a brand os a car\n",
      "this is color of car\n"
     ]
    }
   ],
   "source": [
    "class car():\n",
    "    def brand(self):\n",
    "        print(\"this is a brand os a car\")\n",
    "    def color(self):\n",
    "        print(\"this is color of car\")\n",
    "car1=car()\n",
    "car1.brand()\n",
    "car1.color()"
   ]
  },
  {
   "cell_type": "raw",
   "id": "fc90ba12-1ed3-4186-9378-2924f6c9a479",
   "metadata": {},
   "source": [
    "functions called as methods and variables called as atrributes"
   ]
  },
  {
   "cell_type": "markdown",
   "id": "1a6e92e3",
   "metadata": {},
   "source": [
    "# init method"
   ]
  },
  {
   "cell_type": "raw",
   "id": "00363586-0374-4928-957a-417d6f9263f5",
   "metadata": {},
   "source": [
    ">> init method is called as constructor\n",
    ">> init will be automatically executed whenever we create new object\n",
    ">> it initialize the objects atrribute (give them initial values)"
   ]
  },
  {
   "cell_type": "code",
   "execution_count": 12,
   "id": "43782aa2",
   "metadata": {},
   "outputs": [
    {
     "name": "stdout",
     "output_type": "stream",
     "text": [
      "Roles Royace is driving\n"
     ]
    }
   ],
   "source": [
    "class car:\n",
    "    def __init__(self, color,model):\n",
    "        self.color=color\n",
    "        self.model=model\n",
    "    def drive(self):\n",
    "        print(f\"{self.model} is driving\")\n",
    "m_car=car(\"Black\",\"Roles Royace\")\n",
    "m_car.drive()"
   ]
  },
  {
   "cell_type": "code",
   "execution_count": 13,
   "id": "5ed0a7f0",
   "metadata": {},
   "outputs": [
    {
     "name": "stdout",
     "output_type": "stream",
     "text": [
      "46\n",
      "408\n"
     ]
    }
   ],
   "source": [
    "class calculator:\n",
    "    def __init__(self,a,b):\n",
    "        self.a=a\n",
    "        self.b=b\n",
    "    def add(self):\n",
    "        return self.a+self.b\n",
    "    def mul(self):\n",
    "        return self.a*self.b\n",
    "ans=calculator(12,34)\n",
    "print(ans.add())\n",
    "print(ans.mul())"
   ]
  },
  {
   "cell_type": "markdown",
   "id": "7cbe0b5f",
   "metadata": {},
   "source": [
    "# Inheritance"
   ]
  },
  {
   "cell_type": "raw",
   "id": "8fb5d307-8ad8-4952-b69d-b034201d59eb",
   "metadata": {},
   "source": [
    ">> Reusability: Reuse code from parent class\n",
    ">> Add new features without modifying existing code\n",
    ">> parent class(Base class): has common asttributes/methods\n",
    ">> child class(derived class): Inherit from parent + add its own features"
   ]
  },
  {
   "cell_type": "code",
   "execution_count": 15,
   "id": "a454480b",
   "metadata": {},
   "outputs": [],
   "source": [
    "class basiccal:\n",
    "    def add(self, a, b):\n",
    "        return a+b\n",
    "    def sub(self,a,b):\n",
    "        return a-b"
   ]
  },
  {
   "cell_type": "code",
   "execution_count": 16,
   "id": "66219bfc",
   "metadata": {},
   "outputs": [],
   "source": [
    "class scical(basiccal):\n",
    "    def square(slef,a):\n",
    "        return a*a\n",
    "    def power(self, a,b):\n",
    "        return a**b"
   ]
  },
  {
   "cell_type": "code",
   "execution_count": 17,
   "id": "c57dfdad",
   "metadata": {},
   "outputs": [
    {
     "name": "stdout",
     "output_type": "stream",
     "text": [
      "8\n",
      "25\n",
      "5\n"
     ]
    }
   ],
   "source": [
    "cal=scical()\n",
    "print(cal.add(5,3))\n",
    "print(cal.square(5))\n",
    "print(cal.sub(10,5))"
   ]
  },
  {
   "cell_type": "markdown",
   "id": "816732f2",
   "metadata": {},
   "source": [
    "# Types of Inheritance"
   ]
  },
  {
   "cell_type": "markdown",
   "id": "094578fb",
   "metadata": {},
   "source": [
    "# 1.Single Inheritance"
   ]
  },
  {
   "cell_type": "code",
   "execution_count": 18,
   "id": "b4cedfc5",
   "metadata": {},
   "outputs": [
    {
     "name": "stdout",
     "output_type": "stream",
     "text": [
      "5\n",
      "20\n"
     ]
    }
   ],
   "source": [
    "class mathope:\n",
    "    def add(self,a,b):\n",
    "        return a+b\n",
    "class Multi(mathope):\n",
    "    def multiply(self,a,b):\n",
    "        return a*b\n",
    "calc=Multi()\n",
    "print(calc.add(2,3))\n",
    "print(calc.multiply(4,5))"
   ]
  },
  {
   "cell_type": "markdown",
   "id": "714aecaf",
   "metadata": {},
   "source": [
    "# 2.Multiple Inheritance"
   ]
  },
  {
   "cell_type": "code",
   "execution_count": 19,
   "id": "bc9fd7bf",
   "metadata": {},
   "outputs": [
    {
     "name": "stdout",
     "output_type": "stream",
     "text": [
      "7\n",
      "10\n"
     ]
    }
   ],
   "source": [
    "class addition:\n",
    "    def add(self, a, b):\n",
    "        return a+b\n",
    "class multiply:\n",
    "    def multi(self, a, b):\n",
    "        return a*b\n",
    "class calculator(addition, multiply):\n",
    "    pass\n",
    "calc=calculator()\n",
    "print(calc.add(3,4))\n",
    "print(calc.multi(5,2))"
   ]
  },
  {
   "cell_type": "markdown",
   "id": "0c31c449",
   "metadata": {},
   "source": [
    "# 3.Multilevel Inheritance"
   ]
  },
  {
   "cell_type": "raw",
   "id": "fd0d2ec5-0f2b-46b8-b842-936e614617be",
   "metadata": {},
   "source": [
    "chain of inheritance (grandparent >> parent >> child)"
   ]
  },
  {
   "cell_type": "code",
   "execution_count": 20,
   "id": "632b7c85",
   "metadata": {},
   "outputs": [
    {
     "name": "stdout",
     "output_type": "stream",
     "text": [
      "Breathing....\n",
      "Walking....\n",
      "Barking....\n"
     ]
    }
   ],
   "source": [
    "class animal:\n",
    "    def breath(self):\n",
    "        print(\"Breathing....\")\n",
    "class Mammal(animal):\n",
    "    def walk(slef):\n",
    "        print(\"Walking....\")\n",
    "class dog(Mammal):\n",
    "    def bark(self):\n",
    "        print(\"Barking....\")\n",
    "my_dog=dog()\n",
    "my_dog.breath()\n",
    "my_dog.walk()\n",
    "my_dog.bark()"
   ]
  },
  {
   "cell_type": "markdown",
   "id": "7c55b872",
   "metadata": {},
   "source": [
    "# 4.Hirarchical Inheritance"
   ]
  },
  {
   "cell_type": "raw",
   "id": "df38abe2-05cd-4bcb-846f-87a09053e68a",
   "metadata": {},
   "source": [
    "one parent multiple children"
   ]
  },
  {
   "cell_type": "code",
   "execution_count": 21,
   "id": "d7abbe9f",
   "metadata": {},
   "outputs": [
    {
     "name": "stdout",
     "output_type": "stream",
     "text": [
      "7\n",
      "4\n",
      "14\n"
     ]
    }
   ],
   "source": [
    "class calculator:\n",
    "    def do_math(self,a,b):\n",
    "        print(\"Basic math operation\")\n",
    "class adder(calculator):\n",
    "    def add(self, a,b):\n",
    "        return a+b\n",
    "class subtractor(calculator):\n",
    "    def subtract(self, a, b):\n",
    "        return a-b\n",
    "class multiplier(calculator):\n",
    "    def multiply(self, a, b):\n",
    "        return a*b\n",
    "Add=adder()\n",
    "print(Add.add(3,4))\n",
    "\n",
    "Sub=subtractor()\n",
    "print(Sub.subtract(6,2))\n",
    "        \n",
    "multi=multiplier()\n",
    "print(multi.multiply(7,2))"
   ]
  },
  {
   "cell_type": "markdown",
   "id": "931fc686",
   "metadata": {},
   "source": [
    "# 5.Hybrid Inheritance"
   ]
  },
  {
   "cell_type": "raw",
   "id": "a3efce07-1f61-44f9-a66a-5560c20eddb5",
   "metadata": {},
   "source": [
    "Mix of multiple and multilevel inheritance"
   ]
  },
  {
   "cell_type": "code",
   "execution_count": null,
   "id": "3f2aa6c3-b7f5-4ed8-86ab-cf1bb49f04cd",
   "metadata": {},
   "outputs": [],
   "source": []
  }
 ],
 "metadata": {
  "kernelspec": {
   "display_name": "Python 3 (ipykernel)",
   "language": "python",
   "name": "python3"
  },
  "language_info": {
   "codemirror_mode": {
    "name": "ipython",
    "version": 3
   },
   "file_extension": ".py",
   "mimetype": "text/x-python",
   "name": "python",
   "nbconvert_exporter": "python",
   "pygments_lexer": "ipython3",
   "version": "3.13.5"
  }
 },
 "nbformat": 4,
 "nbformat_minor": 5
}
