{
 "cells": [
  {
   "cell_type": "markdown",
   "id": "47a1c60f",
   "metadata": {},
   "source": [
    "# List"
   ]
  },
  {
   "cell_type": "code",
   "execution_count": null,
   "id": "1af2e718",
   "metadata": {},
   "outputs": [],
   "source": [
    "#List is a collection of items\n",
    "#we can add datatypes in list\n",
    "#datatypes>>int, float ,str complex, list, dict, tuple,frozenset,set, \n",
    "#pandas series"
   ]
  },
  {
   "cell_type": "code",
   "execution_count": null,
   "id": "b05779b7",
   "metadata": {},
   "outputs": [],
   "source": [
    "list1=[12,23,56,78]\n",
    "type(list1)\n",
    "list2=[\"narendra\",\"amit\",\"jay\",\"nirmala\",12,43,34.55]\n",
    "type(list2)"
   ]
  },
  {
   "cell_type": "code",
   "execution_count": null,
   "metadata": {},
   "outputs": [],
   "source": [
    "list3=[12,32,34,[43,55,67],\"priti\",\"nandu\"]#nested list=list inside list\n",
    "print(type(list3))\n",
    "len(list3)\n",
    "print(type(list3[0]))"
   ]
  },
  {
   "cell_type": "code",
   "execution_count": null,
   "metadata": {},
   "outputs": [],
   "source": [
    "list11=[\"narendra\",12,34.45,(3+4j)]\n",
    "print(type(list11))\n",
    "print(type(list11[0]))\n",
    "print(len(list11))"
   ]
  },
  {
   "cell_type": "code",
   "execution_count": null,
   "id": "ef16599a",
   "metadata": {},
   "outputs": [],
   "source": [
    "list7=[1,2.5,'python',20,2+5j]\n",
    "print(list7)\n",
    "list7[0]='data'\n",
    "list7"
   ]
  },
  {
   "cell_type": "code",
   "execution_count": null,
   "id": "00d02324",
   "metadata": {},
   "outputs": [],
   "source": [
    "list7=[1,2.5,'python',20,2+5j]\n",
    "print(len(list7))\n",
    "list7[0]"
   ]
  },
  {
   "cell_type": "code",
   "execution_count": null,
   "id": "a810e342",
   "metadata": {},
   "outputs": [],
   "source": [
    "list7=[1,2.5,'python',20,2+5j]\n",
    "print(len(list7))\n",
    "list7[-1]\n",
    "list7[-2]"
   ]
  },
  {
   "cell_type": "code",
   "execution_count": null,
   "id": "91877446",
   "metadata": {},
   "outputs": [],
   "source": [
    "#list[start:end:step]\n",
    "\n",
    "list2=[1,2,3,4,5,6,7,8,9,10]\n",
    "print(list2[1:6])\n",
    "print(list2[-7:-2])\n",
    "print(list2[1:-2])\n",
    "print(list2[:8:3])\n",
    "print(list2[2:])\n",
    "print(list2[::2])\n",
    "print(list2[::-1])"
   ]
  },
  {
   "cell_type": "code",
   "execution_count": null,
   "id": "6a3949b6",
   "metadata": {},
   "outputs": [],
   "source": [
    "list3=[1,2,3,4,5,6,2,5,7,83,2]\n",
    "print(list3[1:5])\n",
    "print(list3[2:])\n",
    "print(list3[::2])\n",
    "print(list3[::-1])#reversed list"
   ]
  },
  {
   "cell_type": "code",
   "execution_count": null,
   "id": "ad9f64b7",
   "metadata": {},
   "outputs": [],
   "source": [
    "ls1=[1,2,3,[44,55,66],[777,888,999]]\n",
    "print(ls1[1:4])\n",
    "print(ls1[:3])\n",
    "print(ls1[::2])\n",
    "print(ls1[::-2])\n",
    "print(ls1[0:5:2])"
   ]
  },
  {
   "cell_type": "code",
   "execution_count": null,
   "id": "340371ca",
   "metadata": {},
   "outputs": [],
   "source": [
    "ls1=[1,2,3,[44,55,66],[777,888,999]]\n",
    "print(len(ls1))\n",
    "print(ls1[3])\n",
    "print(ls1[3][1:])\n",
    "print(ls1[4][2])"
   ]
  },
  {
   "cell_type": "code",
   "execution_count": null,
   "id": "ef62110f",
   "metadata": {},
   "outputs": [],
   "source": [
    "ls1=[1,2,3,[44,55,66],[777,888,999],[12,34,56,78,98]]\n",
    "print(ls1[5][0:4:2])\n",
    "print(ls1[5][::2])"
   ]
  },
  {
   "cell_type": "code",
   "execution_count": null,
   "id": "d5b17321",
   "metadata": {},
   "outputs": [],
   "source": [
    "list2=[1,2,3,4,5,5]\n",
    "for val in list2:\n",
    "    print(val)"
   ]
  },
  {
   "cell_type": "code",
   "execution_count": null,
   "id": "c51b9136",
   "metadata": {},
   "outputs": [],
   "source": [
    "city_names=[\"pune\",\"ahemadnagar\",\"mumbai\",\"amravati\"]\n",
    "for city in city_names:\n",
    "    print('city name is ',city.upper())\n",
    "    print(\"*\"*50)"
   ]
  },
  {
   "cell_type": "code",
   "execution_count": null,
   "id": "d312c63b",
   "metadata": {},
   "outputs": [],
   "source": [
    "#syntax\n",
    "#new_list=list(iterable)"
   ]
  },
  {
   "cell_type": "code",
   "execution_count": null,
   "id": "38acaa37",
   "metadata": {},
   "outputs": [],
   "source": [
    "at=\"python_@#$%^1234\"\n",
    "l=list(at)\n",
    "print(l)"
   ]
  },
  {
   "cell_type": "code",
   "execution_count": null,
   "id": "fefabf56",
   "metadata": {},
   "outputs": [],
   "source": [
    "ra=range(0,10)\n",
    "print(list(ra))"
   ]
  }
 ],
 "metadata": {
  "language_info": {
   "name": "python"
  }
 },
 "nbformat": 4,
 "nbformat_minor": 5
}
