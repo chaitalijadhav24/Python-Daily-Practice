{
 "cells": [
  {
   "cell_type": "markdown",
   "id": "46716404",
   "metadata": {},
   "source": [
    "# Conditional"
   ]
  },
  {
   "cell_type": "code",
   "execution_count": 1,
   "id": "00c4c240",
   "metadata": {},
   "outputs": [],
   "source": [
    "# if statement\n",
    "age=16\n",
    "if age>=18:\n",
    "    print(\"your are eligible for vote\")"
   ]
  },
  {
   "cell_type": "code",
   "execution_count": 2,
   "id": "4e06b693",
   "metadata": {},
   "outputs": [
    {
     "ename": "ValueError",
     "evalue": "invalid literal for int() with base 10: ''",
     "output_type": "error",
     "traceback": [
      "\u001b[1;31m---------------------------------------------------------------------------\u001b[0m",
      "\u001b[1;31mValueError\u001b[0m                                Traceback (most recent call last)",
      "Cell \u001b[1;32mIn[2], line 1\u001b[0m\n\u001b[1;32m----> 1\u001b[0m Age\u001b[38;5;241m=\u001b[39m\u001b[38;5;28;43mint\u001b[39;49m\u001b[43m(\u001b[49m\u001b[38;5;28;43minput\u001b[39;49m\u001b[43m(\u001b[49m\u001b[38;5;124;43m\"\u001b[39;49m\u001b[38;5;124;43mplease enter your age\u001b[39;49m\u001b[38;5;124;43m\"\u001b[39;49m\u001b[43m)\u001b[49m\u001b[43m)\u001b[49m\n\u001b[0;32m      2\u001b[0m \u001b[38;5;28;01mif\u001b[39;00m Age\u001b[38;5;241m>\u001b[39m\u001b[38;5;241m=\u001b[39m\u001b[38;5;241m18\u001b[39m:\n\u001b[0;32m      3\u001b[0m     \u001b[38;5;28mprint\u001b[39m(\u001b[38;5;124m\"\u001b[39m\u001b[38;5;124mYour are eligible for vote\u001b[39m\u001b[38;5;124m\"\u001b[39m)\n",
      "\u001b[1;31mValueError\u001b[0m: invalid literal for int() with base 10: ''"
     ]
    }
   ],
   "source": [
    "Age=int(input(\"please enter your age\"))\n",
    "if Age>=18:\n",
    "    print(\"Your are eligible for vote\")"
   ]
  },
  {
   "cell_type": "code",
   "execution_count": 3,
   "id": "90f9d4fa",
   "metadata": {},
   "outputs": [
    {
     "name": "stdout",
     "output_type": "stream",
     "text": [
      "number is negative\n"
     ]
    }
   ],
   "source": [
    "# if else statement\n",
    "num=-6\n",
    "if num>=0:\n",
    "    print(\"number is positive\")\n",
    "else:\n",
    "    print(\"number is negative\")"
   ]
  },
  {
   "cell_type": "code",
   "execution_count": null,
   "id": "15a1061a",
   "metadata": {},
   "outputs": [],
   "source": [
    "Num=int(input(\"Enter a number\"))\n",
    "if Num>=0:\n",
    "    print(\"Number is +ve\")\n",
    "else:\n",
    "    print(\"Number is -ve\")"
   ]
  },
  {
   "cell_type": "code",
   "execution_count": null,
   "id": "368256a6",
   "metadata": {},
   "outputs": [],
   "source": [
    "# nested if else statement\n",
    "number=int(input(\"Enter a number\"))\n",
    "if number>0:\n",
    "    print(\"number is +ve\")\n",
    "elif number<0:\n",
    "    print(\"number is -ve\")\n",
    "else:\n",
    "    print(\"number is 0\")"
   ]
  },
  {
   "cell_type": "code",
   "execution_count": null,
   "id": "0aec1db3",
   "metadata": {},
   "outputs": [],
   "source": [
    "score=91\n",
    "if score>=90:\n",
    "    grade=\"A\"\n",
    "elif score>=80:\n",
    "    grade=\"B\"\n",
    "elif score>=70:\n",
    "    grade=\"C\"\n",
    "else:\n",
    "    grwde=\"D\"\n",
    "print(f\"Grade:{grade}\")"
   ]
  },
  {
   "cell_type": "code",
   "execution_count": null,
   "id": "a08ae75c",
   "metadata": {},
   "outputs": [],
   "source": [
    "username=input(\"Enter username\")\n",
    "password=input(\"Enter password\")\n",
    "if username==\"admin\" and password==\"secret123\":\n",
    "    print(\"Login successful\")\n",
    "else:\n",
    "    print(\"Invalid Credentials\")"
   ]
  }
 ],
 "metadata": {
  "kernelspec": {
   "display_name": "Python 3 (ipykernel)",
   "language": "python",
   "name": "python3"
  },
  "language_info": {
   "codemirror_mode": {
    "name": "ipython",
    "version": 3
   },
   "file_extension": ".py",
   "mimetype": "text/x-python",
   "name": "python",
   "nbconvert_exporter": "python",
   "pygments_lexer": "ipython3",
   "version": "3.13.5"
  }
 },
 "nbformat": 4,
 "nbformat_minor": 5
}
