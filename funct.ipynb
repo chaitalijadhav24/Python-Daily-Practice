{
 "cells": [
  {
   "cell_type": "markdown",
   "id": "b4d67562",
   "metadata": {},
   "source": [
    "# Function"
   ]
  },
  {
   "cell_type": "code",
   "execution_count": null,
   "id": "3f31e4e5",
   "metadata": {},
   "outputs": [],
   "source": [
    "# DATA CLEANING\n",
    "# treatin outlines\n",
    "# handling missing values\n",
    "# encoding"
   ]
  },
  {
   "cell_type": "markdown",
   "id": "bf10394a",
   "metadata": {},
   "source": [
    "Types of functions\n",
    "1.built in function=print(),len(),min(),max()\n",
    "2.user defined function\n",
    "3.Lambda function\n",
    "4.Recursive functon"
   ]
  },
  {
   "cell_type": "markdown",
   "id": "b08387ea",
   "metadata": {},
   "source": [
    ">> resusable,block of code that performs a specific task\n",
    ">> return is optional\n",
    ">> return used at the end of the function\n",
    ">> if we want to perform some operations on the function at the end of the function the we use return"
   ]
  },
  {
   "cell_type": "code",
   "execution_count": null,
   "metadata": {},
   "outputs": [],
   "source": [
    "def greeting(name):\n",
    "    print(f\"Hello {name}! Welcome to our website\")\n",
    "greeting(\"chaitali\")\n",
    "greeting(\"Ram\")\n",
    "greeting(\"Rohit\")"
   ]
  },
  {
   "cell_type": "code",
   "execution_count": null,
   "metadata": {},
   "outputs": [],
   "source": [
    "def myName(name):\n",
    "    print(f\"Hello my name is {name}.\")\n",
    "myName(\"Chaitali\")\n",
    "myName(\"Riya\")"
   ]
  },
  {
   "cell_type": "code",
   "execution_count": null,
   "metadata": {},
   "outputs": [],
   "source": [
    "def average(a,b,c):\n",
    "    print(f\"a=={a}, b=={b}, c=={c}\")\n",
    "    avg=(a+b+c)/3\n",
    "    print(\"Average of 3 numbers is:\",avg)\n",
    "average(21,23,55)\n",
    "average(153,208,500)"
   ]
  },
  {
   "cell_type": "code",
   "execution_count": null,
   "metadata": {},
   "outputs": [],
   "source": [
    "def addition(a,b,c):\n",
    "    print(f\"a=={a}, b=={b}, c=={c}\")\n",
    "    add=(a+b+c)\n",
    "    print(add+5)\n",
    "addition(10,20,50)"
   ]
  },
  {
   "cell_type": "code",
   "execution_count": null,
   "id": "e3de2b35",
   "metadata": {},
   "outputs": [],
   "source": [
    "def addition(a,b,c):\n",
    "    print(f\"a=={a}, b=={b}, c=={c}\")\n",
    "    add=(a+b+c)\n",
    "    return add+5\n",
    "addition(10,20,50)"
   ]
  },
  {
   "cell_type": "code",
   "execution_count": null,
   "metadata": {},
   "outputs": [],
   "source": [
    "num=5\n",
    "fact=1\n",
    "if num<0:\n",
    "    print(\"factorial does not exist\")\n",
    "else:\n",
    "    for i in range(1,num+1):\n",
    "        fact*=i\n",
    "    print(f\"factorial of {num} is : {fact}\")"
   ]
  },
  {
   "cell_type": "code",
   "execution_count": null,
   "id": "c603f84f",
   "metadata": {},
   "outputs": [],
   "source": [
    "def factorial(num):\n",
    "    \"\"\"this function used for finding the factorial\"\"\"\n",
    "    fact=1\n",
    "    if num<0:\n",
    "        print(\"factorial does not exist\")\n",
    "    else:\n",
    "        for i in range(1,num+1):\n",
    "            fact*=i\n",
    "        print(f\"Factorial of {num} is : {fact}\")\n",
    "factorial(5)\n",
    "factorial(15)\n",
    "factorial(10)\n",
    "factorial(8)\n",
    "print(factorial.__doc__)"
   ]
  },
  {
   "cell_type": "markdown",
   "id": "35ec0a91",
   "metadata": {},
   "source": [
    "Function arguments\n",
    "a function argument is the input you provide to it so it can perform  \n",
    "\n",
    "1.positional argument\n",
    "2.keyword argument\n",
    "3.default argument\n",
    "4.arbitary positional argument\n",
    "5.arbitary keyword argument"
   ]
  },
  {
   "cell_type": "code",
   "execution_count": null,
   "id": "7a7ba1db",
   "metadata": {},
   "outputs": [],
   "source": [
    "#1.Positional arguments\n",
    "def my_fun(a, b):\n",
    "    print(f\"a=={a}, b=={b}\")\n",
    "    add=a+b\n",
    "    print(\"addition of number is:\",add)\n",
    "my_fun(5,7)\n",
    "my_fun(7,5)"
   ]
  },
  {
   "cell_type": "code",
   "execution_count": null,
   "metadata": {},
   "outputs": [],
   "source": [
    "def greeting(first_name,last_name):\n",
    "    print(f\"Hello! {first_name} {last_name}\")\n",
    "greeting(\"Raju\",\"Sharma\")"
   ]
  },
  {
   "cell_type": "markdown",
   "id": "99914ac5",
   "metadata": {},
   "source": [
    "2.keyword argument\n",
    ">> you can explicitly name the argument when you call the function \n",
    ">> when you use keyword argument the order no longer matters\n",
    ">> the order is different but the output is correct\n",
    "describe_pet(pet_name=\"Rockey\",animal_type=\"Dog\")"
   ]
  },
  {
   "cell_type": "code",
   "execution_count": null,
   "metadata": {},
   "outputs": [],
   "source": [
    "def pet(animal_type,pet_name):   \n",
    "    print(f\"I have a {animal_type}\")\n",
    "    print(f\"Its name is {pet_name}\")\n",
    "pet(\"Dog\",\"Rockey\")\n",
    "pet(pet_name=\"Rockey\",animal_type=\"Dog\")"
   ]
  },
  {
   "cell_type": "markdown",
   "id": "72143a8a",
   "metadata": {},
   "source": [
    "3.Default argument\n",
    ">> These are the arguments have predifined values in the function definition\n",
    ">> If no value is provided during vthe function call, the default is used\n",
    "positional argument >> default argument"
   ]
  },
  {
   "cell_type": "code",
   "execution_count": null,
   "metadata": {},
   "outputs": [],
   "source": [
    "def addition(a, b=60, c=20):\n",
    "    print(f\"a=={a},b=={b}, c=={c}\")\n",
    "    add=a+b+c\n",
    "    print(\"addition of number is:\",add)\n",
    "\n",
    "addition(50)\n",
    "addition(50,b=60,c=20)"
   ]
  },
  {
   "cell_type": "markdown",
   "id": "6b7241c2",
   "metadata": {},
   "source": [
    "4.Arbitary positional argument\n",
    "if we dont know number of argument to be passed, then use arbitary positional argument\n",
    ">> data type of argument will be tuple"
   ]
  },
  {
   "cell_type": "code",
   "execution_count": null,
   "id": "4fd16dec",
   "metadata": {},
   "outputs": [],
   "source": [
    "def addition(n1,n2,n3,n4,n5):\n",
    "    print(\"n1,n2,n3,n4,n5 \",n1,n2,n3,n4,n5)\n",
    "addition(4,3,5,6,7)"
   ]
  },
  {
   "cell_type": "code",
   "execution_count": null,
   "id": "68d3782d",
   "metadata": {},
   "outputs": [],
   "source": [
    "def addition(*args):\n",
    "    print('args>>',args)\n",
    "    sum2=0\n",
    "    for i in args:\n",
    "        sum2+=i\n",
    "        print(\"Addition of all item is:\",sum2)\n",
    "addition(1,3,4,5,6,7,8,8,9,35,27,81)"
   ]
  },
  {
   "cell_type": "markdown",
   "id": "97c05345",
   "metadata": {},
   "source": [
    "5.abitary keyword argumet\n",
    ">> **kwargs >> Keyword argument\n",
    ">> if we dont know how many number of arguments to be passed then we use arbitary keyword argument\n",
    ">> default data type of kwargs is dict"
   ]
  },
  {
   "cell_type": "code",
   "execution_count": null,
   "id": "d365427b",
   "metadata": {},
   "outputs": [],
   "source": [
    "def result(**kwargs):\n",
    "    print('KW args:',kwargs)\n",
    "    average=sum(kwargs.values())/len(kwargs)\n",
    "    print('Average:',average)\n",
    "result(phy=90, chem=67, eng=89, math=98, bio=92)"
   ]
  },
  {
   "cell_type": "code",
   "execution_count": null,
   "id": "002694a5",
   "metadata": {},
   "outputs": [],
   "source": [
    "def result(phy=90, chem=67,**kwargs):\n",
    "    print('KW args:',kwargs)\n",
    "    percentage=sum(kwargs.values())/len(kwargs)\n",
    "    print('Percentage:',percentage)\n",
    "result( eng=89, math=98, bio=92)"
   ]
  },
  {
   "cell_type": "markdown",
   "id": "d9a7fb30",
   "metadata": {},
   "source": [
    ">> Lambda fumctiom are small, anonymous function defined in a single \n",
    ">> think of them as one-time- use function\n",
    ">> anonymous function \n",
    ">> syntax:\n",
    "        lambda argument : expression"
   ]
  },
  {
   "cell_type": "code",
   "execution_count": null,
   "id": "038e4fb1",
   "metadata": {},
   "outputs": [],
   "source": [
    "def multiplication(a,b):\n",
    "    mul=a*b\n",
    "    return mul\n",
    "multiplication(3,6)"
   ]
  },
  {
   "cell_type": "code",
   "execution_count": null,
   "id": "ee79e75b",
   "metadata": {},
   "outputs": [],
   "source": [
    "x=lambda a,b: a*b\n",
    "x(3,6)"
   ]
  },
  {
   "cell_type": "code",
   "execution_count": null,
   "id": "4ed37978",
   "metadata": {},
   "outputs": [],
   "source": [
    "y=lambda a,b: a+b\n",
    "y(54,46)"
   ]
  },
  {
   "cell_type": "code",
   "execution_count": null,
   "id": "dbcd2d74",
   "metadata": {},
   "outputs": [],
   "source": [
    "mul=lambda a,b: a+1000\n",
    "print(mul(5,6))\n",
    "mul(10,4)"
   ]
  },
  {
   "cell_type": "code",
   "execution_count": null,
   "id": "c356fd55",
   "metadata": {},
   "outputs": [],
   "source": [
    "li=[2,3,4,5,6,7,8]\n",
    "sqr=lambda input_list:[i**2 for i in li]\n",
    "sqr(li)"
   ]
  }
 ],
 "metadata": {
  "language_info": {
   "name": "python"
  }
 },
 "nbformat": 4,
 "nbformat_minor": 5
}
