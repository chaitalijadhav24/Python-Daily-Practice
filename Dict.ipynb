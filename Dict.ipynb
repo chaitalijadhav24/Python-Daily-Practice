{
 "cells": [
  {
   "cell_type": "markdown",
   "id": "4ea1c143",
   "metadata": {},
   "source": [
    "# Dictionary"
   ]
  },
  {
   "cell_type": "markdown",
   "id": "56a3a62a",
   "metadata": {},
   "source": [
    ">> ordered collection of key-value pairs\n",
    ">> each key must be uniqe and immutable\n",
    ">> use curly brases {} key values separated by : \n",
    ">> evey key-value pair separeted by commas"
   ]
  },
  {
   "cell_type": "code",
   "execution_count": null,
   "id": "d451ed33",
   "metadata": {},
   "outputs": [],
   "source": [
    "dict1={\"virat\":35,\"Rohit\":40,\"Ashwin\":43}\n",
    "print(dict1)"
   ]
  },
  {
   "cell_type": "markdown",
   "id": "3682f027",
   "metadata": {},
   "source": [
    "Propertis\n",
    "\n",
    "1.Mutable\n",
    "2.collection of key-value pairs\n",
    "4.cannot use indexing\n",
    "5.duplicate keys are not allowed\n",
    "6.duplicate values are allowed\n",
    "7.are enclosed by {}, pair of key and values are separated by ,\n",
    "8.ordered"
   ]
  },
  {
   "cell_type": "code",
   "execution_count": null,
   "id": "1bb7d1e4",
   "metadata": {},
   "outputs": [],
   "source": [
    "dict1={1:35,3.5:\"python\",\"L\":45,\"data\":\"SCience\"}\n",
    "print(dict1)"
   ]
  },
  {
   "cell_type": "code",
   "execution_count": null,
   "id": "2ede4e58",
   "metadata": {},
   "outputs": [],
   "source": [
    "dict2={1:\"python\",2:\"sql\",3:\"java\",2:\"html\"}\n",
    "print(dict2)"
   ]
  },
  {
   "cell_type": "code",
   "execution_count": null,
   "id": "515f27de",
   "metadata": {},
   "outputs": [],
   "source": [
    "dict3={\"id\":123,\"Name\":\"Chaitali\",\"City\":\"Ambajogai\",\"state\":\"MAharashtra\"}\n",
    "print(dict3)\n",
    "print(type(dict3))"
   ]
  },
  {
   "cell_type": "markdown",
   "id": "1c994071",
   "metadata": {},
   "source": [
    "you can access the values in adictionary using their corresponding keys."
   ]
  },
  {
   "cell_type": "code",
   "execution_count": null,
   "id": "78b06f51",
   "metadata": {},
   "outputs": [],
   "source": [
    "dict3={'A':200,'B':300,'C':400,'D':500}\n",
    "print(dict3)\n",
    "print(dict3['A'])\n",
    "print(dict3['B'])"
   ]
  },
  {
   "cell_type": "code",
   "execution_count": null,
   "id": "3960ae43",
   "metadata": {},
   "outputs": [],
   "source": [
    "#1.get(key,default=none)\n",
    "\n",
    "dict3={'A':200,'B':300,'C':400,'D':500}\n",
    "print(dict3.get(\"A\"))"
   ]
  },
  {
   "cell_type": "code",
   "execution_count": null,
   "id": "2f92831c",
   "metadata": {},
   "outputs": [],
   "source": [
    "#2.keys()\n",
    "# reyurns a veiw object that displays a lisy of all the keys in the dictionary \n",
    "# if we make changes in the oringinal \n",
    "\n",
    "dict3={'A':200,'B':300,'C':400,'D':500}\n",
    "keys=dict3.keys()\n",
    "print(keys)\n",
    "print(list(keys))"
   ]
  },
  {
   "cell_type": "code",
   "execution_count": null,
   "id": "f5bcd61e",
   "metadata": {},
   "outputs": [],
   "source": [
    "#3.values()\n",
    "# display a list of all the values in the dictionary\n",
    "dict3={'A':200,'B':300,'C':400,'D':500}\n",
    "values=dict3.values()\n",
    "print(values)\n",
    "print(list(values))"
   ]
  },
  {
   "cell_type": "code",
   "execution_count": null,
   "id": "cc8a18df",
   "metadata": {},
   "outputs": [],
   "source": [
    "#4.items()\n",
    "#display a list of all key-value pair as a tuple\n",
    "\n",
    "dict3={'A':200,'B':300,'C':400,'D':500}\n",
    "items=dict3.items()\n",
    "print(items)\n",
    "print(list(items))"
   ]
  },
  {
   "cell_type": "code",
   "execution_count": null,
   "id": "a43890c5",
   "metadata": {},
   "outputs": [],
   "source": [
    "my_dict={\"name\":\"Chaitali\",\"age\":21,\"city\":\"Bangluru\"}\n",
    "keys=my_dict.keys()\n",
    "print(list(keys))\n",
    "values=my_dict.values()\n",
    "print(list(values))\n",
    "items=my_dict.items()\n",
    "print(list(items))\n"
   ]
  },
  {
   "cell_type": "code",
   "execution_count": null,
   "id": "69fa3678",
   "metadata": {},
   "outputs": [],
   "source": [
    "#5.update()\n",
    "\n",
    "d1={}\n",
    "d2={4:16,5:44,6:23}\n",
    "d1.update(d2)\n",
    "print(d1)"
   ]
  },
  {
   "cell_type": "code",
   "execution_count": null,
   "id": "0cc24593",
   "metadata": {},
   "outputs": [],
   "source": [
    "my_dict={\"name\":\"Chaitali\",\"age\":21,\"city\":\"Bangluru\"}\n",
    "print(my_dict)\n",
    "d1={\"job_role\":\"full stack developer\"}\n",
    "my_dict.update(d1)\n",
    "print(my_dict)"
   ]
  },
  {
   "cell_type": "code",
   "execution_count": null,
   "id": "15911748",
   "metadata": {},
   "outputs": [],
   "source": [
    "my_dict={\"name\":\"Chaitali\",\"age\":21,\"city\":\"Bangluru\"}\n",
    "my_dict.update({\"state\":\"Karnataka\"})\n",
    "print(my_dict)"
   ]
  },
  {
   "cell_type": "code",
   "execution_count": null,
   "id": "038ca272",
   "metadata": {},
   "outputs": [],
   "source": [
    "#6.fromkeys()\n",
    "# this method is a quick way to create a new dictionary where all keys have same initial values\n",
    "# to initialize a diction with deafault value for a set of key\n",
    "# syntax\n",
    "#     dict.fromkeys(keys,values)\n",
    "\n",
    "user=[\"name\",\"email\",\"phone\"]\n",
    "user_profile=dict.fromkeys(user)\n",
    "print(user_profile)"
   ]
  },
  {
   "cell_type": "code",
   "execution_count": null,
   "id": "a273c6b5",
   "metadata": {},
   "outputs": [],
   "source": [
    "user=[\"name\",\"email\",\"phone\"]\n",
    "user_profile=dict.fromkeys(user,0)\n",
    "print(user_profile)"
   ]
  },
  {
   "cell_type": "code",
   "execution_count": null,
   "id": "df42c4c1",
   "metadata": {},
   "outputs": [],
   "source": [
    "#7.zip()\n",
    "# used to pair a items from two or more list\n",
    "# useful to crate a dictionary when you have your keys in one list and values in another\n",
    "\n",
    "kays=['name','company','city']\n",
    "values=['sita','Google','Bangluru']\n",
    "em=dict(zip(keys,values))\n",
    "print(em)"
   ]
  },
  {
   "cell_type": "code",
   "execution_count": null,
   "id": "d0964e2f",
   "metadata": {},
   "outputs": [],
   "source": [
    "key=['A','B']\n",
    "val=[1,2,3]\n",
    "dict1=dict(zip(key,val))\n",
    "print(dict1)"
   ]
  },
  {
   "cell_type": "code",
   "execution_count": null,
   "id": "b05988d1",
   "metadata": {},
   "outputs": [],
   "source": [
    "employee_details = {\"TCS10005\": {'Name': 'Vishal',\n",
    "                                'Age' : 28,\n",
    "                                'Designation': 'Data Scientist',\n",
    "                                'Location': 'Pune',\n",
    "                                'Salary': 95000},\n",
    "                    \"TCS10006\" :{'Name': 'Pravin',\n",
    "                                'Age' : 27,\n",
    "                                'Designation': 'Python Developer',\n",
    "                                'Location': 'Mumbai',\n",
    "                                'Salary': 80000},\n",
    "                    \"TCS10007\" :{'Name': 'Anand',\n",
    "                                'Age' : 29,\n",
    "                                'Designation': 'Data Analyst',\n",
    "                                'Location': 'Banglore',\n",
    "                                'Salary': 90000}}\n",
    "len(employee_details)"
   ]
  },
  {
   "cell_type": "code",
   "execution_count": null,
   "id": "99285f1c",
   "metadata": {},
   "outputs": [],
   "source": [
    "employee_details = {\"TCS10005\": {'Name': 'Vishal',\n",
    "                                'Age' : 28,\n",
    "                                'Designation': 'Data Scientist',\n",
    "                                'Location': 'Pune',\n",
    "                                'Salary': 95000},\n",
    "                    \"TCS10006\" :{'Name': 'Pravin',\n",
    "                                'Age' : 27,\n",
    "                                'Designation': 'Python Developer',\n",
    "                                'Location': 'Mumbai',\n",
    "                                'Salary': 80000},\n",
    "                    \"TCS10007\" :{'Name': 'Anand',\n",
    "                                'Age' : 29,\n",
    "                                'Designation': 'Data Analyst',\n",
    "                                'Location': 'Banglore',\n",
    "                                'Salary': 90000}}\n",
    "\n",
    "employee_details['TCS10005']['Name'] #dict\n",
    "employee_details['TCS10005']['Salary']"
   ]
  },
  {
   "cell_type": "code",
   "execution_count": null,
   "id": "1d8fcc45",
   "metadata": {},
   "outputs": [],
   "source": [
    "employee_details = {\"TCS10005\": {'Name': 'Vishal',\n",
    "                                'Age' : 28,\n",
    "                                'Designation': 'Data Scientist',\n",
    "                                'Location': 'Pune',\n",
    "                                'Salary': 95000},\n",
    "                    \"TCS10006\" :{'Name': 'Pravin',\n",
    "                                'Age' : 27,\n",
    "                                'Designation': 'Python Developer',\n",
    "                                'Location': 'Mumbai',\n",
    "                                'Salary': 80000},\n",
    "                    \"TCS10007\" :{'Name': 'Anand',\n",
    "                                'Age' : 29,\n",
    "                                'Designation': 'Data Analyst',\n",
    "                                'Location': 'Banglore',\n",
    "                                'Salary': 90000}}\n",
    "\n",
    "employee_details['TCS10006']['Name']"
   ]
  },
  {
   "cell_type": "code",
   "execution_count": null,
   "id": "47f764f4",
   "metadata": {},
   "outputs": [],
   "source": [
    "employee_details = {\"TCS10005\": {'Name': 'Vishal',\n",
    "                                'Age' : 28,\n",
    "                                'Designation': 'Data Scientist',\n",
    "                                'Location': 'Pune',\n",
    "                                'Salary': 95000},\n",
    "                    \"TCS10006\" :{'Name': 'Pravin',\n",
    "                                'Age' : 27,\n",
    "                                'Designation': 'Python Developer',\n",
    "                                'Location': 'Mumbai',\n",
    "                                'Salary': [80000,40000,60000,70000]},\n",
    "                    \"TCS10007\" :{'Name': 'Anand',\n",
    "                                'Age' : 29,\n",
    "                                'Designation': 'Data Analyst',\n",
    "                                'Location': 'Banglore',\n",
    "                                'Salary': 90000}}\n",
    "\n",
    "employee_details['TCS10006']['Salary']#[1]\n",
    "employee_details['TCS10006']['Salary'][1]"
   ]
  },
  {
   "cell_type": "code",
   "execution_count": null,
   "id": "ff28ce21",
   "metadata": {},
   "outputs": [],
   "source": [
    "employee_details = {\"TCS10005\": {'Name': 'Vishal',\n",
    "                                'Age' : 28,\n",
    "                                'Designation': 'Data Scientist',\n",
    "                                'Location': 'Pune',\n",
    "                                'Salary': 95000},\n",
    "                    \"TCS10006\" :{'Name': 'Pravin',\n",
    "                                'Age' : 27,\n",
    "                                'Designation': 'Python Developer', #aplication developer\n",
    "                                'Location': 'Mumbai',\n",
    "                                'Salary': [80000,40000,60000,70000]},\n",
    "                    \"TCS10007\" :{'Name': 'Anand',\n",
    "                                'Age' : 29,\n",
    "                                'Designation': 'Data Analyst',\n",
    "                                'Location': 'Banglore',\n",
    "                                'Salary': 90000}}\n",
    "\n",
    "employee_details['TCS10006']['Designation'] #= \"Application Developer\"\n",
    "#employee_details\n",
    "employee_details['TCS10006']['Designation'] = \"Application Developer\"\n",
    "employee_details\n"
   ]
  },
  {
   "cell_type": "code",
   "execution_count": null,
   "id": "61bd728d",
   "metadata": {},
   "outputs": [],
   "source": [
    "#1.pop()\n",
    "# remove element with specified key\n",
    "my_dict={\"name\":\"Chaitali\",\"age\":21,\"city\":\"Bangluru\"}\n",
    "my_dict.pop(\"age\")\n",
    "print(my_dict)"
   ]
  },
  {
   "cell_type": "code",
   "execution_count": null,
   "id": "a9b2b8ea",
   "metadata": {},
   "outputs": [],
   "source": [
    "#2.popitem()\n",
    "em={\"name\":\"vikram\",\n",
    "    \"age\":24,\n",
    "    \"comapny\":\"Wipro\",\n",
    "    \"location\":\"Pune\",\n",
    "    \"Salary\":87000}\n",
    "em.popitem()\n",
    "print(em)"
   ]
  },
  {
   "cell_type": "code",
   "execution_count": null,
   "id": "7aefbfbb",
   "metadata": {},
   "outputs": [],
   "source": [
    "#3.clear()\n",
    "\n",
    "em={\"name\":\"vikram\",\n",
    "    \"age\":24,\n",
    "    \"comapny\":\"Wipro\",\n",
    "    \"location\":\"Pune\",\n",
    "    \"Salary\":87000}\n",
    "em.clear()\n",
    "print(em)"
   ]
  },
  {
   "cell_type": "code",
   "execution_count": null,
   "id": "cbb09509",
   "metadata": {},
   "outputs": [],
   "source": [
    "#4.del()\n",
    "em={\"name\":\"vikram\",\n",
    "    \"age\":24,\n",
    "    \"comapny\":\"Wipro\",\n",
    "    \"location\":\"Pune\",\n",
    "    \"Salary\":87000}\n",
    "del em['age']\n",
    "print(em)"
   ]
  },
  {
   "cell_type": "code",
   "execution_count": null,
   "id": "9cff8493",
   "metadata": {},
   "outputs": [],
   "source": [
    "my_info={}\n",
    "d2={'name':'chaitali','age':'21'}\n",
    "my_info.update(d2)\n",
    "print(my_info)"
   ]
  }
 ],
 "metadata": {
  "language_info": {
   "name": "python"
  }
 },
 "nbformat": 4,
 "nbformat_minor": 5
}
